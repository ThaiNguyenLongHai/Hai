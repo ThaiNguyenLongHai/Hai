{
  "cells": [
    {
      "cell_type": "markdown",
      "metadata": {
        "id": "view-in-github",
        "colab_type": "text"
      },
      "source": [
        "<a href=\"https://colab.research.google.com/github/ThaiNguyenLongHai/Hai/blob/main/AI_report_flower.ipynb\" target=\"_parent\"><img src=\"https://colab.research.google.com/assets/colab-badge.svg\" alt=\"Open In Colab\"/></a>"
      ]
    },
    {
      "cell_type": "code",
      "execution_count": null,
      "metadata": {
        "id": "n0Z-DXbaQ7Gw"
      },
      "outputs": [],
      "source": []
    },
    {
      "cell_type": "code",
      "execution_count": null,
      "metadata": {
        "id": "gHTWAyyRQ4B6"
      },
      "outputs": [],
      "source": [
        "import numpy as np\n",
        "import cv2 as cv\n",
        "import matplotlib.pyplot as plt\n",
        "import os\n",
        "from keras.models import Sequential, Model\n",
        "from tensorflow.keras.layers import Conv2D, MaxPooling2D, Dropout, Dense, Flatten, Input\n",
        "from tensorflow.keras.optimizers import Adam\n",
        "from sklearn.preprocessing import LabelBinarizer\n",
        "from sklearn.model_selection import train_test_split\n",
        "from tensorflow.keras.preprocessing.image import ImageDataGenerator\n",
        "import pickle"
      ]
    },
    {
      "cell_type": "code",
      "source": [
        "from google.colab import drive\n",
        "drive.mount('/content/drive')"
      ],
      "metadata": {
        "id": "eIlI6in8P7XH"
      },
      "execution_count": null,
      "outputs": []
    },
    {
      "cell_type": "code",
      "execution_count": null,
      "metadata": {
        "id": "B-WeNsmxRDCA"
      },
      "outputs": [],
      "source": [
        "def save_data(root_folder):\n",
        "\n",
        "    dest_size = (224, 224)\n",
        "    print(\"XU lY ANH\")\n",
        "\n",
        "    images = []\n",
        "    labels = []\n",
        "\n",
        "    # Lặp qua các thư mục con con trong thư mục gốc\n",
        "    for folder in os.listdir(root_folder):\n",
        "        if folder!='.DS_Store':\n",
        "            print(\"Folder =\",folder)\n",
        "            # Lặp qua các file trong từng thư mục con  chứa các ảnh\n",
        "            for file in os.listdir(root_folder+'/'+folder):\n",
        "                if file!='.DS_Store':\n",
        "                    # print(\"File=\", file)\n",
        "                    images.append(cv.resize(cv.imread(root_folder + '/' + folder +\"/\" + file), dsize=(224, 224)))\n",
        "                    labels.append(folder)\n",
        "\n",
        "    images = np.array(images)\n",
        "    labels = np.array(labels)\n",
        "\n",
        "    encoder = LabelBinarizer()\n",
        "    labels = encoder.fit_transform(labels)\n",
        "    print(labels)\n",
        "\n",
        "    file = open('/content/drive/MyDrive/Colab Notebooks/flowers.data', 'wb')\n",
        "    # dump information to that file\n",
        "    pickle.dump((images,labels), file)\n",
        "    # close the file\n",
        "    file.close()\n",
        "\n",
        "save_data('/content/drive/MyDrive/Colab Notebooks/flower')"
      ]
    },
    {
      "cell_type": "code",
      "execution_count": null,
      "metadata": {
        "id": "LXMmTcrERorY"
      },
      "outputs": [],
      "source": [
        "def load_data():\n",
        "    file = open('/content/drive/MyDrive/Colab Notebooks/flowers.data', 'rb')\n",
        "\n",
        "    # dump information to that file\n",
        "    (pixels, labels) = pickle.load(file)\n",
        "\n",
        "    # close the file\n",
        "    file.close()\n",
        "\n",
        "    print(pixels.shape)\n",
        "    print(labels.shape)\n",
        "\n",
        "    return pixels, labels\n",
        "\n",
        "images, labels = load_data()\n",
        "\n"
      ]
    },
    {
      "cell_type": "code",
      "execution_count": null,
      "metadata": {
        "id": "jdtHV48bSjgO"
      },
      "outputs": [],
      "source": [
        "X_train, X_test, y_train, y_test = train_test_split(images, labels, test_size=0.2, random_state = 10)\n",
        "X = X_test"
      ]
    },
    {
      "cell_type": "code",
      "execution_count": null,
      "metadata": {
        "id": "cCp_wI-fTBoq"
      },
      "outputs": [],
      "source": [
        "X_train = X_train.astype('float32')/255.0\n",
        "X_test = X_test.astype('float32')/255.0"
      ]
    },
    {
      "cell_type": "code",
      "execution_count": null,
      "metadata": {
        "id": "PjsraeUDTJG_"
      },
      "outputs": [],
      "source": [
        "model = Sequential()\n",
        "model.add(Conv2D(32, (3,3), strides = (1,1), padding='same', activation='relu', input_shape=(224, 224, 3)))\n",
        "model.add(Conv2D(32, (3,3), strides = (1,1), padding='same', activation='relu'))\n",
        "model.add(MaxPooling2D((2,2)))\n",
        "\n",
        "model.add(Conv2D(64, (3,3), strides = (1,1), padding='same', activation='relu'))\n",
        "model.add(Conv2D(64, (3,3), strides = (1,1), padding='same', activation='relu'))\n",
        "model.add(MaxPooling2D((2,2)))\n",
        "\n",
        "model.add(Conv2D(128, (3,3), strides = (1,1), padding='same', activation='relu'))\n",
        "model.add(Conv2D(128, (3,3), strides = (1,1), padding='same', activation='relu'))\n",
        "model.add(MaxPooling2D((2,2)))\n",
        "\n",
        "\n",
        "model.add(Conv2D(256, (3,3), strides = (1,1), padding='same', activation='relu'))\n",
        "model.add(Conv2D(256, (3,3), strides = (1,1), padding='same', activation='relu'))\n",
        "model.add(Conv2D(256, (3,3), strides = (1,1), padding='same', activation='relu'))\n",
        "model.add(MaxPooling2D((2,2)))\n",
        "\n",
        "model.add(Conv2D(64, (3,3), strides = (1,1), padding='same', activation='relu'))\n",
        "model.add(Conv2D(64, (3,3), strides = (1,1), padding='same', activation='relu'))\n",
        "model.add(MaxPooling2D((2,2)))\n",
        "\n",
        "model.add(Dropout(0.2))\n",
        "model.add(Flatten())\n",
        "model.add(Dense(64, activation='relu'))\n",
        "model.add(Dense(128, activation='relu'))\n",
        "model.add(Dense(5, activation='softmax'))\n",
        "model.summary()\n",
        "\n",
        "model.compile(loss='categorical_crossentropy', optimizer=Adam(learning_rate=0.0002), metrics=['accuracy'])"
      ]
    },
    {
      "cell_type": "code",
      "execution_count": null,
      "metadata": {
        "id": "xgaF7uhQTP7n"
      },
      "outputs": [],
      "source": [
        "f = ImageDataGenerator(rotation_range=20,\n",
        "                    width_shift_range=0.05,\n",
        "                    height_shift_range=0.05,\n",
        "                    shear_range=0.05,\n",
        "                    zoom_range=0.05,\n",
        "                    horizontal_flip=True,\n",
        "                    fill_mode='nearest')"
      ]
    },
    {
      "cell_type": "code",
      "source": [
        "t = model.fit_generator(f.flow(X_train, y_train, batch_size=64), \n",
        "                        epochs=30, validation_data= f.flow(X_test,y_test, batch_size=64), verbose=1)"
      ],
      "metadata": {
        "id": "YYUBntcVF4-5"
      },
      "execution_count": null,
      "outputs": []
    },
    {
      "cell_type": "code",
      "source": [
        "plt.style.use(\"ggplot\")\n",
        "plt.figure()\n",
        "plt.plot(np.arange(0, 30), t.history[\"loss\"], label=\"train_loss\")\n",
        "plt.plot(np.arange(0, 30), t.history[\"val_loss\"], label=\"val_loss\")\n",
        "plt.plot(np.arange(0, 30), t.history[\"accuracy\"], label=\"train_acc\")\n",
        "plt.plot(np.arange(0, 30), t.history[\"val_accuracy\"], label=\"val_acc\")\n",
        "plt.title(\"Training Loss and Acc\")\n",
        "plt.xlabel(\"No.Epoch\")\n",
        "plt.ylabel(\"Loss/Accuracy\")\n",
        "plt.legend()"
      ],
      "metadata": {
        "id": "Kek1xrgDeSAp"
      },
      "execution_count": null,
      "outputs": []
    },
    {
      "cell_type": "code",
      "source": [
        "model.save('/content/drive/MyDrive/Colab Notebooks/model_flower.h5')"
      ],
      "metadata": {
        "id": "GVWWoDe3ealX"
      },
      "execution_count": null,
      "outputs": []
    },
    {
      "cell_type": "code",
      "source": [
        "class_name = ['daisy', 'dandelion', 'rose', 'sunflower', 'tulip']\n",
        "image = X[400]\n",
        "plt.style.use('default')\n",
        "c = cv.cvtColor(image, cv.COLOR_BGR2RGB)\n",
        "plt.imshow(c)\n",
        "plt.show()\n",
        "\n",
        "img = X_test[400]\n",
        "img = np.expand_dims(img, axis = 0)\n",
        "result = model.predict(img)\n",
        "# print kết quả \n",
        "print(\"The picture: \", class_name[np.argmax(result[0])], (result[0]))\n"
      ],
      "metadata": {
        "id": "w_o9ft6lefQZ"
      },
      "execution_count": null,
      "outputs": []
    }
  ],
  "metadata": {
    "colab": {
      "provenance": [],
      "private_outputs": true,
      "include_colab_link": true
    },
    "kernelspec": {
      "display_name": "Python 3",
      "name": "python3"
    },
    "language_info": {
      "name": "python"
    },
    "gpuClass": "premium"
  },
  "nbformat": 4,
  "nbformat_minor": 0
}