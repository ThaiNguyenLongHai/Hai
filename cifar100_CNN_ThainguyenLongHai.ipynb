{
  "nbformat": 4,
  "nbformat_minor": 0,
  "metadata": {
    "colab": {
      "provenance": [],
      "authorship_tag": "ABX9TyONrfpukmpqdeFfLhb02oGf",
      "include_colab_link": true
    },
    "kernelspec": {
      "name": "python3",
      "display_name": "Python 3"
    },
    "language_info": {
      "name": "python"
    }
  },
  "cells": [
    {
      "cell_type": "markdown",
      "metadata": {
        "id": "view-in-github",
        "colab_type": "text"
      },
      "source": [
        "<a href=\"https://colab.research.google.com/github/ThaiNguyenLongHai/Hai/blob/main/cifar100_CNN_ThainguyenLongHai.ipynb\" target=\"_parent\"><img src=\"https://colab.research.google.com/assets/colab-badge.svg\" alt=\"Open In Colab\"/></a>"
      ]
    },
    {
      "cell_type": "code",
      "source": [
        "pip install keras\n"
      ],
      "metadata": {
        "colab": {
          "base_uri": "https://localhost:8080/"
        },
        "id": "ZzJdS8zpslIy",
        "outputId": "77ee194e-a66e-4ed7-e98c-d605597e0972"
      },
      "execution_count": 2,
      "outputs": [
        {
          "output_type": "stream",
          "name": "stdout",
          "text": [
            "Looking in indexes: https://pypi.org/simple, https://us-python.pkg.dev/colab-wheels/public/simple/\n",
            "Requirement already satisfied: keras in /usr/local/lib/python3.9/dist-packages (2.12.0)\n"
          ]
        }
      ]
    },
    {
      "cell_type": "code",
      "source": [
        "from keras.datasets import cifar100\n",
        "import numpy as np\n",
        "from keras.models import Sequential\n",
        "from keras.layers import Dense\n",
        "\n",
        "(x_train, y_train), (x_test, y_test) = cifar100.load_data()\n",
        "\n",
        "\n",
        "model = Sequential()\n",
        "model.add(Dense(512, activation = 'relu', input_shape = (3072,)))\n",
        "\n",
        "model.add(Dense(100, activation = 'softmax'))\n",
        "\n",
        "model.summary()\n",
        "\n",
        "x_test.shape\n",
        "     "
      ],
      "metadata": {
        "colab": {
          "base_uri": "https://localhost:8080/"
        },
        "id": "dpKVGUawst7h",
        "outputId": "0067a652-49c4-48bd-feaf-5d83b99fe826"
      },
      "execution_count": 3,
      "outputs": [
        {
          "output_type": "stream",
          "name": "stdout",
          "text": [
            "Downloading data from https://www.cs.toronto.edu/~kriz/cifar-100-python.tar.gz\n",
            "169001437/169001437 [==============================] - 3s 0us/step\n",
            "Model: \"sequential\"\n",
            "_________________________________________________________________\n",
            " Layer (type)                Output Shape              Param #   \n",
            "=================================================================\n",
            " dense (Dense)               (None, 512)               1573376   \n",
            "                                                                 \n",
            " dense_1 (Dense)             (None, 100)               51300     \n",
            "                                                                 \n",
            "=================================================================\n",
            "Total params: 1,624,676\n",
            "Trainable params: 1,624,676\n",
            "Non-trainable params: 0\n",
            "_________________________________________________________________\n"
          ]
        },
        {
          "output_type": "execute_result",
          "data": {
            "text/plain": [
              "(10000, 32, 32, 3)"
            ]
          },
          "metadata": {},
          "execution_count": 3
        }
      ]
    },
    {
      "cell_type": "code",
      "source": [
        "x_train = x_train.reshape(50000,32*32*3)\n",
        "x_train = x_train.astype('float32')/255\n",
        "\n",
        "x_test = x_test.reshape(10000,32*32*3)\n",
        "x_test = x_test.astype('float32')/255\n",
        "\n",
        "\n",
        "from keras.utils import  to_categorical\n",
        "\n",
        "y_train = to_categorical(y_train,100)\n",
        "y_test = to_categorical(y_test,100)\n",
        "\n",
        "y_test.shape\n",
        "     "
      ],
      "metadata": {
        "colab": {
          "base_uri": "https://localhost:8080/"
        },
        "id": "fewlCLV5s4hJ",
        "outputId": "06cdfb1f-2699-41ef-8c86-1cc68fdea32f"
      },
      "execution_count": 4,
      "outputs": [
        {
          "output_type": "execute_result",
          "data": {
            "text/plain": [
              "(10000, 100)"
            ]
          },
          "metadata": {},
          "execution_count": 4
        }
      ]
    },
    {
      "cell_type": "code",
      "source": [
        "model.compile(optimizer = 'rmsprop', loss = 'categorical_crossentropy', metrics = ['accuracy'])\n",
        "\n",
        "model.fit(x_train, y_train, epochs = 30, batch_size = 128)\n",
        "\n",
        "test_loss1, test_acc1 = model.evaluate(x_test, y_test)\n",
        "\n",
        "print('Mat mat: ', test_loss1)\n",
        "print('Do chinh xac: ', test_acc1)"
      ],
      "metadata": {
        "colab": {
          "base_uri": "https://localhost:8080/"
        },
        "id": "LD2b4KE7tBR7",
        "outputId": "d0b2f4a2-e708-4816-c809-81abe6f3ab36"
      },
      "execution_count": 5,
      "outputs": [
        {
          "output_type": "stream",
          "name": "stdout",
          "text": [
            "Epoch 1/30\n",
            "391/391 [==============================] - 14s 35ms/step - loss: 4.2632 - accuracy: 0.0643\n",
            "Epoch 2/30\n",
            "391/391 [==============================] - 13s 32ms/step - loss: 3.8103 - accuracy: 0.1232\n",
            "Epoch 3/30\n",
            "391/391 [==============================] - 14s 37ms/step - loss: 3.6660 - accuracy: 0.1510\n",
            "Epoch 4/30\n",
            "391/391 [==============================] - 13s 33ms/step - loss: 3.5774 - accuracy: 0.1649\n",
            "Epoch 5/30\n",
            "391/391 [==============================] - 13s 32ms/step - loss: 3.5068 - accuracy: 0.1791\n",
            "Epoch 6/30\n",
            "391/391 [==============================] - 14s 35ms/step - loss: 3.4493 - accuracy: 0.1871\n",
            "Epoch 7/30\n",
            "391/391 [==============================] - 13s 32ms/step - loss: 3.4040 - accuracy: 0.1973\n",
            "Epoch 8/30\n",
            "391/391 [==============================] - 13s 32ms/step - loss: 3.3624 - accuracy: 0.2044\n",
            "Epoch 9/30\n",
            "391/391 [==============================] - 12s 32ms/step - loss: 3.3227 - accuracy: 0.2132\n",
            "Epoch 10/30\n",
            "391/391 [==============================] - 12s 32ms/step - loss: 3.2926 - accuracy: 0.2197\n",
            "Epoch 11/30\n",
            "391/391 [==============================] - 13s 32ms/step - loss: 3.2615 - accuracy: 0.2255\n",
            "Epoch 12/30\n",
            "391/391 [==============================] - 13s 32ms/step - loss: 3.2354 - accuracy: 0.2286\n",
            "Epoch 13/30\n",
            "391/391 [==============================] - 13s 32ms/step - loss: 3.2145 - accuracy: 0.2366\n",
            "Epoch 14/30\n",
            "391/391 [==============================] - 12s 32ms/step - loss: 3.1842 - accuracy: 0.2416\n",
            "Epoch 15/30\n",
            "391/391 [==============================] - 13s 32ms/step - loss: 3.1661 - accuracy: 0.2433\n",
            "Epoch 16/30\n",
            "391/391 [==============================] - 12s 32ms/step - loss: 3.1443 - accuracy: 0.2505\n",
            "Epoch 17/30\n",
            "391/391 [==============================] - 12s 31ms/step - loss: 3.1183 - accuracy: 0.2508\n",
            "Epoch 18/30\n",
            "391/391 [==============================] - 12s 31ms/step - loss: 3.1001 - accuracy: 0.2567\n",
            "Epoch 19/30\n",
            "391/391 [==============================] - 12s 31ms/step - loss: 3.0831 - accuracy: 0.2594\n",
            "Epoch 20/30\n",
            "391/391 [==============================] - 12s 31ms/step - loss: 3.0581 - accuracy: 0.2647\n",
            "Epoch 21/30\n",
            "391/391 [==============================] - 13s 32ms/step - loss: 3.0445 - accuracy: 0.2696\n",
            "Epoch 22/30\n",
            "391/391 [==============================] - 12s 32ms/step - loss: 3.0216 - accuracy: 0.2725\n",
            "Epoch 23/30\n",
            "391/391 [==============================] - 12s 32ms/step - loss: 3.0039 - accuracy: 0.2762\n",
            "Epoch 24/30\n",
            "391/391 [==============================] - 13s 32ms/step - loss: 2.9811 - accuracy: 0.2792\n",
            "Epoch 25/30\n",
            "391/391 [==============================] - 13s 32ms/step - loss: 2.9692 - accuracy: 0.2822\n",
            "Epoch 26/30\n",
            "391/391 [==============================] - 12s 32ms/step - loss: 2.9529 - accuracy: 0.2869\n",
            "Epoch 27/30\n",
            "391/391 [==============================] - 13s 32ms/step - loss: 2.9303 - accuracy: 0.2915\n",
            "Epoch 28/30\n",
            "391/391 [==============================] - 13s 32ms/step - loss: 2.9178 - accuracy: 0.2947\n",
            "Epoch 29/30\n",
            "391/391 [==============================] - 12s 32ms/step - loss: 2.8993 - accuracy: 0.2972\n",
            "Epoch 30/30\n",
            "391/391 [==============================] - 13s 32ms/step - loss: 2.8835 - accuracy: 0.3017\n",
            "313/313 [==============================] - 3s 8ms/step - loss: 3.6738 - accuracy: 0.2089\n",
            "Mat mat:  3.673809766769409\n",
            "Do chinh xac:  0.20890000462532043\n"
          ]
        }
      ]
    }
  ]
}