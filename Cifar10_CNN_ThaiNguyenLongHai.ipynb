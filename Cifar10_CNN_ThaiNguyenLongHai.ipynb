{
  "nbformat": 4,
  "nbformat_minor": 0,
  "metadata": {
    "colab": {
      "provenance": [],
      "authorship_tag": "ABX9TyM20lhVnofhg1gRQPkunH+r",
      "include_colab_link": true
    },
    "kernelspec": {
      "name": "python3",
      "display_name": "Python 3"
    },
    "language_info": {
      "name": "python"
    }
  },
  "cells": [
    {
      "cell_type": "markdown",
      "metadata": {
        "id": "view-in-github",
        "colab_type": "text"
      },
      "source": [
        "<a href=\"https://colab.research.google.com/github/ThaiNguyenLongHai/Hai/blob/main/Cifar10_CNN_ThaiNguyenLongHai.ipynb\" target=\"_parent\"><img src=\"https://colab.research.google.com/assets/colab-badge.svg\" alt=\"Open In Colab\"/></a>"
      ]
    },
    {
      "cell_type": "code",
      "execution_count": 1,
      "metadata": {
        "colab": {
          "base_uri": "https://localhost:8080/"
        },
        "id": "EZLotXiltk26",
        "outputId": "348943f7-923f-4e6f-c032-1248f7b1b839"
      },
      "outputs": [
        {
          "output_type": "stream",
          "name": "stdout",
          "text": [
            "Downloading data from https://www.cs.toronto.edu/~kriz/cifar-10-python.tar.gz\n",
            "170498071/170498071 [==============================] - 3s 0us/step\n",
            "(50000, 10)\n",
            "(10000, 10)\n"
          ]
        }
      ],
      "source": [
        "from keras.models import Sequential\n",
        "from keras.layers import Dense\n",
        "from keras.datasets import cifar10\n",
        "from keras.utils import  to_categorical\n",
        "import matplotlib.pyplot as plt\n",
        "(x_train, y_train), (x_test, y_test) = cifar10.load_data()\n",
        "x_train = x_train.reshape(50000,32,32,3)\n",
        "x_train = x_train.astype('float32')/255\n",
        "\n",
        "x_test = x_test.reshape(10000,32,32,3)\n",
        "x_test = x_test.astype('float32')/255\n",
        "\n",
        "y_train = to_categorical(y_train,10)\n",
        "y_test  = to_categorical(y_test,10)\n",
        "\n",
        "print(y_train.shape)\n",
        "print(y_test.shape)"
      ]
    },
    {
      "cell_type": "code",
      "source": [
        "from keras.models import Sequential, Model\n",
        "from keras.layers import Dense, Dropout, Flatten, Conv2D, MaxPooling2D, Normalization, LeakyReLU\n",
        "from keras.optimizers import Adam\n",
        "\n",
        "model = Sequential()\n",
        "\n",
        "model.add(Conv2D(32, kernel_size = (3,3), activation = 'relu', input_shape = (32,32,3), padding = 'same'))\n",
        "model.add(Dropout(0.25))\n",
        "model.add(MaxPooling2D((2,2), padding = 'same'))\n",
        "\n",
        "model.add(Conv2D(64,(3,3), activation='relu', padding= 'same'))\n",
        "model.add(Dropout(0.25))\n",
        "model.add(MaxPooling2D((2,2), padding = 'same'))\n",
        "\n",
        "\n",
        "model.add(Conv2D(128,(3,3), activation='relu', padding = 'same'))\n",
        "model.add(Dropout(0.25))\n",
        "model.add(MaxPooling2D((2,2), padding = 'same'))\n",
        "\n",
        "\n",
        "model.add(Flatten())\n",
        "model.add(Dense(128, activation='relu'))\n",
        "model.add(Dropout(0.25))\n",
        "model.add(Dense(10,activation='softmax'))\n",
        "\n",
        "model.summary()"
      ],
      "metadata": {
        "colab": {
          "base_uri": "https://localhost:8080/"
        },
        "id": "-QXuahdzt05T",
        "outputId": "9575e1de-3a80-41ba-f521-ef4c9790a390"
      },
      "execution_count": 3,
      "outputs": [
        {
          "output_type": "stream",
          "name": "stdout",
          "text": [
            "Model: \"sequential\"\n",
            "_________________________________________________________________\n",
            " Layer (type)                Output Shape              Param #   \n",
            "=================================================================\n",
            " conv2d (Conv2D)             (None, 32, 32, 32)        896       \n",
            "                                                                 \n",
            " dropout (Dropout)           (None, 32, 32, 32)        0         \n",
            "                                                                 \n",
            " max_pooling2d (MaxPooling2D  (None, 16, 16, 32)       0         \n",
            " )                                                               \n",
            "                                                                 \n",
            " conv2d_1 (Conv2D)           (None, 16, 16, 64)        18496     \n",
            "                                                                 \n",
            " dropout_1 (Dropout)         (None, 16, 16, 64)        0         \n",
            "                                                                 \n",
            " max_pooling2d_1 (MaxPooling  (None, 8, 8, 64)         0         \n",
            " 2D)                                                             \n",
            "                                                                 \n",
            " conv2d_2 (Conv2D)           (None, 8, 8, 128)         73856     \n",
            "                                                                 \n",
            " dropout_2 (Dropout)         (None, 8, 8, 128)         0         \n",
            "                                                                 \n",
            " max_pooling2d_2 (MaxPooling  (None, 4, 4, 128)        0         \n",
            " 2D)                                                             \n",
            "                                                                 \n",
            " flatten (Flatten)           (None, 2048)              0         \n",
            "                                                                 \n",
            " dense (Dense)               (None, 128)               262272    \n",
            "                                                                 \n",
            " dropout_3 (Dropout)         (None, 128)               0         \n",
            "                                                                 \n",
            " dense_1 (Dense)             (None, 10)                1290      \n",
            "                                                                 \n",
            "=================================================================\n",
            "Total params: 356,810\n",
            "Trainable params: 356,810\n",
            "Non-trainable params: 0\n",
            "_________________________________________________________________\n"
          ]
        }
      ]
    },
    {
      "cell_type": "code",
      "source": [
        "from keras.losses import categorical_crossentropy\n",
        "\n",
        "model.compile(loss = categorical_crossentropy,  optimizer = Adam(), metrics = ['accuracy'])\n",
        "\n",
        "train = model.fit(x_train, y_train, batch_size=64, epochs=20, verbose=1)"
      ],
      "metadata": {
        "colab": {
          "base_uri": "https://localhost:8080/"
        },
        "id": "Wcqyk9z4t8vB",
        "outputId": "3761e33a-1727-41a6-f9dc-207a909386f6"
      },
      "execution_count": null,
      "outputs": [
        {
          "output_type": "stream",
          "name": "stdout",
          "text": [
            "Epoch 1/20\n",
            "782/782 [==============================] - 165s 210ms/step - loss: 1.5605 - accuracy: 0.4286\n",
            "Epoch 2/20\n",
            "782/782 [==============================] - 156s 200ms/step - loss: 1.1778 - accuracy: 0.5798\n",
            "Epoch 3/20\n",
            "782/782 [==============================] - 154s 197ms/step - loss: 1.0147 - accuracy: 0.6420\n",
            "Epoch 4/20\n",
            "782/782 [==============================] - 155s 198ms/step - loss: 0.9109 - accuracy: 0.6813\n",
            "Epoch 5/20\n",
            "782/782 [==============================] - 155s 198ms/step - loss: 0.8445 - accuracy: 0.7029\n",
            "Epoch 6/20\n",
            "782/782 [==============================] - 152s 194ms/step - loss: 0.7810 - accuracy: 0.7272\n",
            "Epoch 7/20\n",
            "782/782 [==============================] - 152s 194ms/step - loss: 0.7408 - accuracy: 0.7389\n",
            "Epoch 8/20\n",
            "782/782 [==============================] - 152s 195ms/step - loss: 0.6971 - accuracy: 0.7561\n",
            "Epoch 9/20\n",
            "172/782 [=====>........................] - ETA: 1:55 - loss: 0.6418 - accuracy: 0.7727"
          ]
        }
      ]
    },
    {
      "cell_type": "code",
      "source": [
        "model.save('cifar10_CNN.h5')\n",
        "from google.colab import files\n",
        "uploaded = files.upload()\n",
        "plt.imshow(\"chim.jpg\")\n",
        "     "
      ],
      "metadata": {
        "id": "jsl0Va7YuCSh"
      },
      "execution_count": null,
      "outputs": []
    }
  ]
}