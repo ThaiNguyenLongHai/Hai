{
  "nbformat": 4,
  "nbformat_minor": 0,
  "metadata": {
    "colab": {
      "private_outputs": true,
      "provenance": [],
      "authorship_tag": "ABX9TyM7a5xDW/i5cRZ++24Q3Qwf",
      "include_colab_link": true
    },
    "kernelspec": {
      "name": "python3",
      "display_name": "Python 3"
    },
    "language_info": {
      "name": "python"
    },
    "accelerator": "GPU",
    "gpuClass": "standard"
  },
  "cells": [
    {
      "cell_type": "markdown",
      "metadata": {
        "id": "view-in-github",
        "colab_type": "text"
      },
      "source": [
        "<a href=\"https://colab.research.google.com/github/ThaiNguyenLongHai/Hai/blob/main/AI_report_TienVN.ipynb\" target=\"_parent\"><img src=\"https://colab.research.google.com/assets/colab-badge.svg\" alt=\"Open In Colab\"/></a>"
      ]
    },
    {
      "cell_type": "code",
      "execution_count": null,
      "metadata": {
        "id": "4ePvvHbR5eQs"
      },
      "outputs": [],
      "source": [
        "from google.colab import drive\n",
        "drive.mount('/content/drive')"
      ]
    },
    {
      "cell_type": "code",
      "source": [
        "import numpy as np\n",
        "import cv2 as cv\n",
        "import matplotlib.pyplot as plt\n",
        "import os\n",
        "import tensorflow as tf\n",
        "from keras.models import Sequential, Model\n",
        "from tensorflow.keras.layers import Conv2D, MaxPooling2D, Dropout, Dense, Flatten, Input\n",
        "from tensorflow.keras.optimizers import Adam\n",
        "from sklearn.preprocessing import LabelBinarizer\n",
        "from sklearn.model_selection import train_test_split\n",
        "from tensorflow.keras.preprocessing.image import ImageDataGenerator\n",
        "import pickle\n",
        "from keras.models import load_model\n"
      ],
      "metadata": {
        "id": "C1sQSdCF50iR"
      },
      "execution_count": null,
      "outputs": []
    },
    {
      "cell_type": "code",
      "source": [
        "def save_data(root_folder):\n",
        "\n",
        "    dest_size = (224, 224)\n",
        "    print(\"XU LY ANH \")\n",
        "\n",
        "    images = []\n",
        "    labels = []\n",
        "\n",
        "    # Lặp các thư mục con trong thư mục gốc\n",
        "    for folder in os.listdir(root_folder):\n",
        "        if folder!='.DS_Store':\n",
        "            print(\"Folder =\",folder)\n",
        "            # Lặp các file trong từng thư mục con chứa các ảnh\n",
        "            for file in os.listdir(root_folder+'/'+folder):\n",
        "                if file!='.DS_Store':\n",
        "                    # print\n",
        "                    images.append(cv.resize(cv.imread(root_folder + '/' + folder +\"/\" + file), dsize=(224, 224)))\n",
        "                    labels.append(folder)\n",
        "\n",
        "        images = np.array(images)\n",
        "        labels = np.array(labels)\n",
        "\n",
        "    encoder = LabelBinarizer()\n",
        "    labels = encoder.fit_transform(labels)\n",
        "    print(labels)\n",
        "\n",
        "    file = open('/content/drive/MyDrive/Colab Notebooks/TienVN.data', 'wb')\n",
        "    # dump information to that file\n",
        "    pickle.dump((images,labels), file)\n",
        "    # close the file\n",
        "    file.close()\n",
        "\n",
        "save_data('/content/drive/MyDrive/Colab Notebooks/dataset')"
      ],
      "metadata": {
        "id": "tJvEawNW6EN5"
      },
      "execution_count": null,
      "outputs": []
    },
    {
      "cell_type": "code",
      "source": [
        "def load_data():\n",
        "    file = open('/content/drive/MyDrive/Colab Notebooks/TienVN.data', 'rb')\n",
        "\n",
        "    # dump information to that file\n",
        "    (pixels, labels) = pickle.load(file)\n",
        "\n",
        "    # close the file\n",
        "    file.close()\n",
        "\n",
        "    print(pixels.shape)\n",
        "    print(labels.shape)\n",
        "\n",
        "    return pixels, labels\n",
        "\n",
        "images, labels = load_data()"
      ],
      "metadata": {
        "id": "p1kNj0Cd7bHx"
      },
      "execution_count": null,
      "outputs": []
    },
    {
      "cell_type": "code",
      "source": [
        "X_train, X_test, y_train, y_test = train_test_split(images, labels, test_size=0.2, random_state = 10)\n",
        "X = X_test\n",
        "X_train.shape"
      ],
      "metadata": {
        "id": "DvCGRSPW7jpd"
      },
      "execution_count": null,
      "outputs": []
    },
    {
      "cell_type": "code",
      "source": [
        "X_train = X_train.astype('float32')/255.0\n",
        "X_test = X_test.astype('float32')/255.0"
      ],
      "metadata": {
        "id": "VkLQPHPs7m0S"
      },
      "execution_count": null,
      "outputs": []
    },
    {
      "cell_type": "code",
      "source": [
        "model = Sequential()\n",
        "model.add(Conv2D(64, (3, 3), strides=(1,1), padding = 'same', activation = 'relu', input_shape=(224, 224, 3)))\n",
        "model.add(Conv2D(64, (3, 3),strides=(1,1), padding = 'same',  activation = 'relu'))\n",
        "model.add(MaxPooling2D(pool_size=(2, 2)))\n",
        "\n",
        "model.add(Conv2D(128, (3, 3), strides=(1,1), padding = 'same', activation = 'relu'))\n",
        "model.add(Conv2D(128, (3, 3), strides=(1,1), padding = 'same', activation = 'relu'))\n",
        "model.add(MaxPooling2D(pool_size=(2, 2)))\n",
        "\n",
        "model.add(Conv2D(256, (3, 3), strides=(1,1), padding = 'same', activation = 'relu'))\n",
        "model.add(Conv2D(256, (3, 3), strides=(1,1), padding = 'same', activation = 'relu'))\n",
        "model.add(Conv2D(256, (3, 3), strides=(1,1), padding = 'same', activation = 'relu'))\n",
        "model.add(MaxPooling2D(pool_size=(2, 2)))\n",
        "\n",
        "model.add(Conv2D(512, (3, 3), strides=(1,1), padding = 'same', activation = 'relu'))\n",
        "model.add(Conv2D(512, (3, 3), strides=(1,1), padding = 'same', activation = 'relu'))\n",
        "model.add(Conv2D(512, (3, 3), strides=(1,1), padding = 'same', activation = 'relu'))\n",
        "model.add(MaxPooling2D(pool_size=(2, 2)))\n",
        "\n",
        "model.add(Flatten())\n",
        "model.add(Dense(1024, activation='relu'))\n",
        "model.add(Dense(256, activation='relu'))\n",
        "model.add(Dense(11, activation='softmax'))\n",
        "\n",
        "model.summary()\n",
        "\n",
        "model.compile(loss='categorical_crossentropy', optimizer=Adam(learning_rate=0.0005), metrics=['accuracy'])"
      ],
      "metadata": {
        "id": "LQZKTs4a7sGW"
      },
      "execution_count": null,
      "outputs": []
    },
    {
      "cell_type": "code",
      "source": [
        "aug = ImageDataGenerator(rotation_range=20,\n",
        "                        width_shift_range=0.05,\n",
        "                        height_shift_range=0.05,\n",
        "                        shear_range=0.05,\n",
        "                        zoom_range=0.05,\n",
        "                        horizontal_flip=True,\n",
        "                        fill_mode='nearest')"
      ],
      "metadata": {
        "id": "x5FtDmIA7ylh"
      },
      "execution_count": null,
      "outputs": []
    },
    {
      "cell_type": "markdown",
      "source": [
        "Tiến Hành Huấn Luyện Model"
      ],
      "metadata": {
        "id": "qYfZmnQnFH-S"
      }
    },
    {
      "cell_type": "code",
      "source": [
        "h = model.fit_generator(aug.flow(X_train, y_train, batch_size=64), \n",
        "                        epochs=10, validation_data=aug.flow(X_test,y_test, batch_size=64))"
      ],
      "metadata": {
        "id": "S95EkoQo79BG"
      },
      "execution_count": null,
      "outputs": []
    },
    {
      "cell_type": "code",
      "source": [
        "plt.style.use(\"ggplot\")\n",
        "plt.figure()\n",
        "plt.plot(np.arange(0, 10), h.history[\"loss\"], label=\"train_loss\")\n",
        "plt.plot(np.arange(0, 10), h.history[\"val_loss\"], label=\"val_loss\")\n",
        "plt.plot(np.arange(0, 10), h.history[\"accuracy\"], label=\"train_acc\")\n",
        "plt.plot(np.arange(0, 10), h.history[\"val_accuracy\"], label=\"val_acc\")\n",
        "plt.title(\"Training Loss and Acc\")\n",
        "plt.xlabel(\"No.Epoch\")\n",
        "plt.ylabel(\"Loss / Accuracy\")\n",
        "plt.legend()"
      ],
      "metadata": {
        "id": "C-DqIGYdDyge"
      },
      "execution_count": null,
      "outputs": []
    },
    {
      "cell_type": "code",
      "source": [
        "model.save('/content/drive/MyDrive/model/Model_TienVN.h5')"
      ],
      "metadata": {
        "id": "Yz0SIxEkFnio"
      },
      "execution_count": null,
      "outputs": []
    },
    {
      "cell_type": "code",
      "source": [
        "class_name = ['00000','10000','20000','50000','100000','500000']\n",
        "image = X[300]\n",
        "c = cv.cvtColor(image, cv.COLOR_BGR2RGB)\n",
        "plt.style.use('default')\n",
        "plt.imshow(c)\n",
        "plt.show()\n",
        "\n",
        "img = X_test[324]\n",
        "img = np.expand_dims(img, axis = 0)\n",
        "result = model.predict(img)\n",
        "print(result)\n",
        "print(\"This picture is: \", class_name[np.argmax(result[0])], (result[0]))\n",
        "print(np.max(result[0],axis=0))"
      ],
      "metadata": {
        "id": "9TOomOlmJLXp"
      },
      "execution_count": null,
      "outputs": []
    }
  ]
}